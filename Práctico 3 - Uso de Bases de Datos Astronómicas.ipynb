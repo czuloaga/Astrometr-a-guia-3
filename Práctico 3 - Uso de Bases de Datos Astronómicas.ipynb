{
 "cells": [
  {
   "cell_type": "code",
   "execution_count": 49,
   "metadata": {},
   "outputs": [],
   "source": [
    "import pyvo\n",
    "import numpy as np\n",
    "import matplotlib.pyplot as plt\n",
    "from scipy.stats import norm\n",
    "from scipy.stats import ks_2samp"
   ]
  },
  {
   "cell_type": "markdown",
   "metadata": {},
   "source": [
    "LUego de instalar el paquete, seleccionamos la base de datos del The Extrasolar Planets Encyclopaedia (http://exoplanet.eu/)"
   ]
  },
  {
   "cell_type": "code",
   "execution_count": 50,
   "metadata": {},
   "outputs": [],
   "source": [
    "service = pyvo.dal.TAPService(\"http://voparis-tap-planeto.obspm.fr/tap\")"
   ]
  },
  {
   "cell_type": "markdown",
   "metadata": {},
   "source": [
    "Pedimos la listas de planetas con masa, radio, período orbital, tipo de detección, semieje mayor y  tipo espetral con un query "
   ]
  },
  {
   "cell_type": "code",
   "execution_count": 51,
   "metadata": {},
   "outputs": [],
   "source": [
    "query=\"SELECT mass,radius,period,detection_type,semi_major_axis,star_spec_type FROM exoplanet.epn_core\" "
   ]
  },
  {
   "cell_type": "markdown",
   "metadata": {},
   "source": [
    "Para acceder a los resultados del query en una tabla que llamaremos results, escribimos lo siguiente"
   ]
  },
  {
   "cell_type": "code",
   "execution_count": 52,
   "metadata": {},
   "outputs": [],
   "source": [
    "results = service.search(query) "
   ]
  },
  {
   "cell_type": "markdown",
   "metadata": {},
   "source": [
    "Pedimos que nos guarde estos datos en una tabla numpy"
   ]
  },
  {
   "cell_type": "code",
   "execution_count": 53,
   "metadata": {},
   "outputs": [],
   "source": [
    "np.save('myresults',results.to_table())"
   ]
  },
  {
   "cell_type": "markdown",
   "metadata": {},
   "source": [
    "Ahora accedemos a la tabla que guardamos"
   ]
  },
  {
   "cell_type": "code",
   "execution_count": 54,
   "metadata": {},
   "outputs": [],
   "source": [
    "results=np.load('myresults.npy', allow_pickle=True)"
   ]
  },
  {
   "cell_type": "markdown",
   "metadata": {},
   "source": [
    " ### Inciso a\n",
    " \n",
    "Debemos estudiar la distribución de índices de masas y períodos orbitales para planetas descubiertos con diferentes técnicas observacionales y analizar los resultados para determinar si existe un sesgo en las propiedades de los exoplanetas en función del tipo de técnica utilizada.\n",
    "\n",
    "Para empezar sustraemos los datos de masas, períodos y tipo de detección de la tabla."
   ]
  },
  {
   "cell_type": "code",
   "execution_count": 55,
   "metadata": {},
   "outputs": [],
   "source": [
    "masas = []\n",
    "periodos = []\n",
    "deteccion = []\n",
    "\n",
    "for i in range (len(results)):\n",
    "    a = results[i][0]\n",
    "    b = results[i][2]\n",
    "    c = results[i][3]\n",
    "    if a == a and b == b:\n",
    "        masas.append(np.log10(a))\n",
    "        periodos.append(np.log10(b))\n",
    "        deteccion.append(c)\n",
    "        \n",
    "        #print(results[i][0],results[i][2])"
   ]
  },
  {
   "cell_type": "code",
   "execution_count": 56,
   "metadata": {},
   "outputs": [
    {
     "data": {
      "text/plain": [
       "{b'Astrometry',\n",
       " b'Imaging',\n",
       " b'Microlensing',\n",
       " b'Other',\n",
       " b'Primary Transit',\n",
       " b'Primary Transit#TTV',\n",
       " b'Pulsar',\n",
       " b'Radial Velocity',\n",
       " b'TTV'}"
      ]
     },
     "execution_count": 56,
     "metadata": {},
     "output_type": "execute_result"
    }
   ],
   "source": [
    "set(deteccion)"
   ]
  },
  {
   "cell_type": "code",
   "execution_count": 60,
   "metadata": {},
   "outputs": [
    {
     "data": {
      "text/plain": [
       "[b'Imaging',\n",
       " b'Primary Transit#TTV',\n",
       " b'Pulsar',\n",
       " b'Astrometry',\n",
       " b'TTV',\n",
       " b'Other',\n",
       " b'Microlensing',\n",
       " b'Radial Velocity',\n",
       " b'Primary Transit']"
      ]
     },
     "execution_count": 60,
     "metadata": {},
     "output_type": "execute_result"
    }
   ],
   "source": [
    "list(set(deteccion))"
   ]
  },
  {
   "cell_type": "code",
   "execution_count": 72,
   "metadata": {},
   "outputs": [
    {
     "data": {
      "text/plain": [
       "b'Astrometry'"
      ]
     },
     "execution_count": 72,
     "metadata": {},
     "output_type": "execute_result"
    }
   ],
   "source": [
    "list(set(deteccion))[3]"
   ]
  },
  {
   "cell_type": "markdown",
   "metadata": {},
   "source": [
    "Armamos una lista donde ordenamos los métodos de forma distinta para que los resultados en el gráfico se puedan ver mejor."
   ]
  },
  {
   "cell_type": "code",
   "execution_count": 73,
   "metadata": {},
   "outputs": [],
   "source": [
    "lista = [list(set(deteccion))[8],list(set(deteccion))[7],list(set(deteccion))[4],list(set(deteccion))[0],list(set(deteccion))[2],list(set(deteccion))[6],list(set(deteccion))[3],list(set(deteccion))[5],list(set(deteccion))[1]]"
   ]
  },
  {
   "cell_type": "code",
   "execution_count": 74,
   "metadata": {},
   "outputs": [
    {
     "data": {
      "text/plain": [
       "[b'Primary Transit',\n",
       " b'Radial Velocity',\n",
       " b'TTV',\n",
       " b'Imaging',\n",
       " b'Pulsar',\n",
       " b'Microlensing',\n",
       " b'Astrometry',\n",
       " b'Other',\n",
       " b'Primary Transit#TTV']"
      ]
     },
     "execution_count": 74,
     "metadata": {},
     "output_type": "execute_result"
    }
   ],
   "source": [
    "lista"
   ]
  },
  {
   "cell_type": "markdown",
   "metadata": {},
   "source": [
    "Construimos una función para utilizarla para hacer el gráfico. Utilizamos el comando $.decode('utf-8')$ para decodificar los elementos de la lista de los métodos de detección."
   ]
  },
  {
   "cell_type": "code",
   "execution_count": 58,
   "metadata": {},
   "outputs": [
    {
     "name": "stderr",
     "output_type": "stream",
     "text": [
      "No handles with labels found to put in legend.\n"
     ]
    },
    {
     "data": {
      "image/png": "[encoded data removed]",
      "text/plain": [
       "<Figure size 432x288 with 1 Axes>"
      ]
     },
     "metadata": {
      "needs_background": "light"
     },
     "output_type": "display_data"
    }
   ],
   "source": [
    "def g(RV,color1):\n",
    "    l = 0\n",
    "    p1 = 6\n",
    "    for k in deteccion:\n",
    "        if k == RV:\n",
    "\n",
    "            if p1==6:\n",
    "                plt.scatter(masas[l],periodos[l],c=color1,label= k.decode('utf-8'))\n",
    "                p1 = 1\n",
    "                continue\n",
    "            if p1 == 1:\n",
    "                plt.scatter(masas[l],periodos[l],c=color1)\n",
    "\n",
    "        else:\n",
    "            continue\n",
    "        l = l + 1\n",
    "\n",
    "plt.legend()\n",
    "plt.show()  "
   ]
  },
  {
   "cell_type": "code",
   "execution_count": 75,
   "metadata": {},
   "outputs": [
    {
     "data": {
      "image/png": "[encoded data removed]",
      "text/plain": [
       "<Figure size 432x288 with 1 Axes>"
      ]
     },
     "metadata": {
      "needs_background": "light"
     },
     "output_type": "display_data"
    }
   ],
   "source": [
    "color = ['b','g','r','c','m','y','k','w','orange']\n",
    "v = 0\n",
    "for h in lista:\n",
    "    g(h,color[v])\n",
    "    v = v + 1\n",
    "plt.xticks([-4,-3,-2,-1,0,1,2],['1e-4','1e-3','1e-2','1e-1','1e-0','1e+1','1e+2'])\n",
    "plt.yticks([-1,0,1,2,3,4,5,6],['1e-1','1e+0','1e+1','1e+2','1e+3','1e+4','1e+5','1e+6'])\n",
    "plt.xlabel('Masa [$M_{JUP}$]')\n",
    "plt.ylabel('Periodo Orbital [d]')\n",
    "plt.legend()\n",
    "plt.show()"
   ]
  },
  {
   "cell_type": "markdown",
   "metadata": {},
   "source": [
    "### Inciso b\n",
    "\n",
    "En este inciso debemos estudiar la distribución de los semiejes de los exoplanetas y determinar si la misma es consistente con una distribución gaussiana.\n",
    "\n",
    "Primero armamos una lista con los semiejes sin contener los 'nan'"
   ]
  },
  {
   "cell_type": "code",
   "execution_count": 76,
   "metadata": {},
   "outputs": [],
   "source": [
    "semieje = []\n",
    "for q in range(len(results)):\n",
    "    d = a = results[q][4]\n",
    "    if d == d:\n",
    "        semieje.append(np.log10(d))"
   ]
  },
  {
   "cell_type": "code",
   "execution_count": 80,
   "metadata": {},
   "outputs": [
    {
     "data": {
      "text/plain": [
       "Text(0.5, 0, 'Semieje [UA]')"
      ]
     },
     "execution_count": 80,
     "metadata": {},
     "output_type": "execute_result"
    },
    {
     "data": {
      "image/png": "[encoded data removed]",
      "text/plain": [
       "<Figure size 432x288 with 1 Axes>"
      ]
     },
     "metadata": {
      "needs_background": "light"
     },
     "output_type": "display_data"
    }
   ],
   "source": [
    "a = plt.hist(semieje, bins = 19)\n",
    "#plt.xticks([-2,-1,0,1,2,3,4],['1e-2','1e-1','1e+0','1e+1','1e+2','1e+3','1e+4'])\n",
    "plt.ylabel('Cuentas')\n",
    "plt.xlabel('Semieje [UA]')"
   ]
  },
  {
   "cell_type": "markdown",
   "metadata": {},
   "source": [
    "Vemos cuales son límites de los bines del histograma"
   ]
  },
  {
   "cell_type": "code",
   "execution_count": 19,
   "metadata": {},
   "outputs": [
    {
     "data": {
      "text/plain": [
       "array([-2.58004425, -2.23563204, -1.89121982, -1.54680761, -1.20239539,\n",
       "       -0.85798318, -0.51357096, -0.16915875,  0.17525347,  0.51966568,\n",
       "        0.8640779 ,  1.20849011,  1.55290232,  1.89731454,  2.24172675,\n",
       "        2.58613897,  2.93055118,  3.2749634 ,  3.61937561,  3.96378783])"
      ]
     },
     "execution_count": 19,
     "metadata": {},
     "output_type": "execute_result"
    }
   ],
   "source": [
    "a[1]"
   ]
  },
  {
   "cell_type": "markdown",
   "metadata": {},
   "source": [
    "Para generar la muestra de variables normales, usamos como parámetros la media y la desviación estandar del histograma"
   ]
  },
  {
   "cell_type": "code",
   "execution_count": 82,
   "metadata": {},
   "outputs": [],
   "source": [
    "mean = np.mean(distancias)\n",
    "std = np.std(distancias)"
   ]
  },
  {
   "cell_type": "code",
   "execution_count": 83,
   "metadata": {},
   "outputs": [],
   "source": [
    "v_norm = []\n",
    "for i in range(len(a[1])):\n",
    "    x = norm.pdf(a[1][i], loc=mean, scale=std)\n",
    "    v_norm.append(x)"
   ]
  },
  {
   "cell_type": "code",
   "execution_count": 84,
   "metadata": {},
   "outputs": [],
   "source": [
    "ancho = a[1][0]-a[1][1]\n",
    "xlista = [a[1][i] for i in range(len(a[1])-1)]\n",
    "f = [a[0][i]/len(semieje) for i in range(len(a[0]))]"
   ]
  },
  {
   "cell_type": "code",
   "execution_count": 85,
   "metadata": {},
   "outputs": [
    {
     "name": "stdout",
     "output_type": "stream",
     "text": [
      "19 19\n"
     ]
    }
   ],
   "source": [
    "print(len(f),len(xlista))"
   ]
  },
  {
   "cell_type": "code",
   "execution_count": 87,
   "metadata": {},
   "outputs": [
    {
     "data": {
      "text/plain": [
       "Text(0, 0.5, 'Frecuencias')"
      ]
     },
     "execution_count": 87,
     "metadata": {},
     "output_type": "execute_result"
    },
    {
     "data": {
      "image/png": "[encoded data removed]",
      "text/plain": [
       "<Figure size 432x288 with 1 Axes>"
      ]
     },
     "metadata": {
      "needs_background": "light"
     },
     "output_type": "display_data"
    }
   ],
   "source": [
    "plt.bar(xlista,f,width=ancho,align='edge')\n",
    "plt.plot(a[1],v_norm)\n",
    "plt.xlabel('Semieje [UA]')\n",
    "plt.ylabel('Frecuencias')"
   ]
  },
  {
   "cell_type": "markdown",
   "metadata": {},
   "source": [
    "Como consideramos que la variable semieje proviene de una distribución continua entonces para compararla con una normal debemos usar el KS test.\n",
    "Consideraremos como hipótesis nula\n",
    "\n",
    "<center>\n",
    "$H_0$ : ambas muestras provienen de la misma distribución\n",
    "</center>\n",
    "\n",
    "y como hipótesis alternativa\n",
    "\n",
    "<center>\n",
    "$H_i$ : ambas muestras provienen de distribuciones distintas\n",
    "</center>\n",
    "\n",
    "Como estadístico de prueba utilizaremos \n",
    "\n",
    "<center>\n",
    "$D_{m,n}^{obs} = sup_x |F_{1,n} - F_{1,m}|$\n",
    "</center>\n",
    "\n",
    "donde $n$ y $m$ son los tamaños de las muestras, $F_{1,n}$ y $F_{1,m}$ son las funciones distribución empíricas, y rechazaremos la hipótesis nula cuando \n",
    "\n",
    "$ $\n",
    "\n",
    "<center>\n",
    "$D_{m,n}^{obs} > D_{max}^{\\alpha}$ \n",
    "</center>\n",
    "\n",
    "De este modo, si elegimos un nivel de significancia del 95% y teniendo $\\nu$ = 18 (https://www.statisticshowto.com/kolmogorov-smirnov-test/#pvalue), tenemos que $D_{max}^{\\alpha} = 0.309$.\n",
    "Procedemos a calcular $D_{m,n}^{obs}$ usando la función $kstest$ del paquete $scipy$ "
   ]
  },
  {
   "cell_type": "code",
   "execution_count": 88,
   "metadata": {},
   "outputs": [
    {
     "data": {
      "text/plain": [
       "KstestResult(statistic=0.3, pvalue=0.24244968766417718)"
      ]
     },
     "execution_count": 88,
     "metadata": {},
     "output_type": "execute_result"
    }
   ],
   "source": [
    "ks_2samp(f, v_norm)"
   ]
  },
  {
   "cell_type": "markdown",
   "metadata": {},
   "source": [
    "Vemos que el KS test nos devuelve un $D_{m,n}^{obs}$ = 0.3, lo que hace que  tengamos que rechazarla hipótesis nula, y por lo tanto ambas muestras provienen de distribuciones distintas."
   ]
  },
  {
   "cell_type": "markdown",
   "metadata": {},
   "source": [
    "### Inciso c"
   ]
  },
  {
   "cell_type": "code",
   "execution_count": 68,
   "metadata": {},
   "outputs": [],
   "source": [
    "radios =\\\\[]\n",
    "masas2 = []\n",
    "\n",
    "for i in range (len(results)):\n",
    "    r = results[i][1]\n",
    "    m2 = results[i][0]\n",
    "    if r == r and m2 == m2:\n",
    "        radios.append(np.log10(r))\n",
    "        masas2.append(np.log10(m2))\n",
    "   \n",
    "        "
   ]
  },
  {
   "cell_type": "code",
   "execution_count": 69,
   "metadata": {},
   "outputs": [
    {
     "data": {
      "text/plain": [
       "939"
      ]
     },
     "execution_count": 69,
     "metadata": {},
     "output_type": "execute_result"
    }
   ],
   "source": [
    "len(radios)"
   ]
  },
  {
   "cell_type": "code",
   "execution_count": 71,
   "metadata": {},
   "outputs": [
    {
     "data": {
      "text/plain": [
       "939"
      ]
     },
     "execution_count": 71,
     "metadata": {},
     "output_type": "execute_result"
    }
   ],
   "source": [
    "len(masas2)"
   ]
  },
  {
   "cell_type": "code",
   "execution_count": 73,
   "metadata": {},
   "outputs": [
    {
     "data": {
      "text/plain": [
       "<matplotlib.collections.PathCollection at 0x7ff0110d3a60>"
      ]
     },
     "execution_count": 73,
     "metadata": {},
     "output_type": "execute_result"
    },
    {
     "data": {
      "image/png": "[encoded data removed]",
      "text/plain": [
       "<Figure size 432x288 with 1 Axes>"
      ]
     },
     "metadata": {
      "needs_background": "light"
     },
     "output_type": "display_data"
    }
   ],
   "source": [
    "plt.scatter(masas2,radios)"
   ]
  },
  {
   "cell_type": "code",
   "execution_count": 90,
   "metadata": {},
   "outputs": [
    {
     "name": "stdout",
     "output_type": "stream",
     "text": [
      "0 0.9888496938779363\n"
     ]
    }
   ],
   "source": [
    "mean2 = 0\n",
    "std2 = np.std(masas2)\n",
    "print(mean2,std2)"
   ]
  },
  {
   "cell_type": "code",
   "execution_count": 91,
   "metadata": {},
   "outputs": [],
   "source": [
    "v_norm2 = []\n",
    "for i in range(len(masas2)):\n",
    "    x2 = norm.pdf(masas2[i], loc=mean2, scale=std2)\n",
    "    v_norm2.append(x2)"
   ]
  },
  {
   "cell_type": "code",
   "execution_count": 92,
   "metadata": {},
   "outputs": [
    {
     "data": {
      "text/plain": [
       "<matplotlib.collections.PathCollection at 0x7ff01257aa30>"
      ]
     },
     "execution_count": 92,
     "metadata": {},
     "output_type": "execute_result"
    },
    {
     "data": {
      "image/png": "[encoded data removed]",
      "text/plain": [
       "<Figure size 432x288 with 1 Axes>"
      ]
     },
     "metadata": {
      "needs_background": "light"
     },
     "output_type": "display_data"
    }
   ],
   "source": [
    "plt.scatter(masas2,v_norm2)"
   ]
  },
  {
   "cell_type": "code",
   "execution_count": null,
   "metadata": {},
   "outputs": [],
   "source": []
  }
 ],
 "metadata": {
  "kernelspec": {
   "display_name": "Python 3",
   "language": "python",
   "name": "python3"
  },
  "language_info": {
   "codemirror_mode": {
    "name": "ipython",
    "version": 3
   },
   "file_extension": ".py",
   "mimetype": "text/x-python",
   "name": "python",
   "nbconvert_exporter": "python",
   "pygments_lexer": "ipython3",
   "version": "3.8.3"
  }
 },
 "nbformat": 4,
 "nbformat_minor": 4
}
